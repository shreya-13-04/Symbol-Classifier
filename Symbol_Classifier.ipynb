{
  "nbformat": 4,
  "nbformat_minor": 0,
  "metadata": {
    "colab": {
      "provenance": []
    },
    "kernelspec": {
      "name": "python3",
      "display_name": "Python 3"
    },
    "language_info": {
      "name": "python"
    }
  },
  "cells": [
    {
      "cell_type": "markdown",
      "source": [
        "**Extract Data**"
      ],
      "metadata": {
        "id": "TXNWPsb3J2mM"
      }
    },
    {
      "cell_type": "code",
      "execution_count": 1,
      "metadata": {
        "colab": {
          "base_uri": "https://localhost:8080/",
          "height": 0
        },
        "id": "VuGmUe_VInma",
        "outputId": "c32a9129-c9e6-4feb-cdea-848b148259e1"
      },
      "outputs": [
        {
          "output_type": "stream",
          "name": "stdout",
          "text": [
            "Dataset extracted successfully!\n"
          ]
        }
      ],
      "source": [
        "import zipfile\n",
        "import os\n",
        "\n",
        "\n",
        "zip_path = \"/content/data.zip\"\n",
        "extract_path = \"/content/data\"\n",
        "\n",
        "\n",
        "with zipfile.ZipFile(zip_path, 'r') as zip_ref:\n",
        "    zip_ref.extractall(extract_path)\n",
        "\n",
        "print(\"Dataset extracted successfully!\")\n"
      ]
    },
    {
      "cell_type": "markdown",
      "source": [
        "**Import Required Libraries**"
      ],
      "metadata": {
        "id": "D3ZuU5DZKLMY"
      }
    },
    {
      "cell_type": "code",
      "source": [
        "import os\n",
        "import pandas as pd\n",
        "import torch\n",
        "import torch.nn as nn\n",
        "import torch.optim as optim\n",
        "import torchvision.transforms as transforms\n",
        "from torch.utils.data import Dataset, DataLoader\n",
        "from PIL import Image\n",
        "import matplotlib.pyplot as plt\n"
      ],
      "metadata": {
        "id": "4BYuygbPKIWV"
      },
      "execution_count": 2,
      "outputs": []
    },
    {
      "cell_type": "markdown",
      "source": [
        "**Load CSV Files**"
      ],
      "metadata": {
        "id": "pSPn1lmtKOlj"
      }
    },
    {
      "cell_type": "code",
      "source": [
        "train_csv_path = \"/content/train.csv\"\n",
        "test_csv_path = \"/content/test.csv\"\n",
        "\n",
        "df_train = pd.read_csv(train_csv_path)\n",
        "df_test = pd.read_csv(test_csv_path)\n",
        "\n",
        "\n",
        "print(\"Train Data Sample:\\n\", df_train.head())\n",
        "print(\"Test Data Sample:\\n\", df_test.head())\n"
      ],
      "metadata": {
        "colab": {
          "base_uri": "https://localhost:8080/",
          "height": 0
        },
        "id": "FA6QJEsBKPua",
        "outputId": "4fcd2749-39cb-428f-eb05-5c8a033525c1"
      },
      "execution_count": 3,
      "outputs": [
        {
          "output_type": "stream",
          "name": "stdout",
          "text": [
            "Train Data Sample:\n",
            "            image_path  label              latex  user_id  example_id\n",
            "0  data/v2-118246.png    786  \\circlearrowright    16925      118246\n",
            "1   data/v2-66308.png    194            \\propto    16925       66308\n",
            "2  data/v2-142335.png    951             \\nabla    16925      142335\n",
            "3  data/v2-134240.png    921                 \\|    16925      134240\n",
            "4   data/v2-82460.png    531                \\mp    16925       82460\n",
            "Test Data Sample:\n",
            "            image_path  user_id  example_id\n",
            "0  data/v2-114921.png    16925      114921\n",
            "1  data/v2-121504.png    16925      121504\n",
            "2   data/v2-74325.png    16925       74325\n",
            "3   data/v2-30262.png     6662       30262\n",
            "4  data/v2-109694.png    16925      109694\n"
          ]
        }
      ]
    },
    {
      "cell_type": "markdown",
      "source": [
        "**Define Image Transformations**"
      ],
      "metadata": {
        "id": "nKAaFkZyKX2L"
      }
    },
    {
      "cell_type": "code",
      "source": [
        "transform = transforms.Compose([\n",
        "    transforms.Resize((32, 32)),\n",
        "    transforms.ToTensor(),\n",
        "    transforms.Normalize((0.5,), (0.5,))\n",
        "])\n"
      ],
      "metadata": {
        "id": "pXgt3S27KY_z"
      },
      "execution_count": 4,
      "outputs": []
    },
    {
      "cell_type": "markdown",
      "source": [
        "**Define Custom Dataset Class**"
      ],
      "metadata": {
        "id": "mbYDZy66KcZY"
      }
    },
    {
      "cell_type": "code",
      "source": [
        "class SymbolDataset(Dataset):\n",
        "    def __init__(self, df, root_dir, transform=None, test=False):\n",
        "        self.df = df\n",
        "        self.root_dir = root_dir.rstrip(\"/\")\n",
        "        self.transform = transform\n",
        "        self.test = test\n",
        "\n",
        "    def __len__(self):\n",
        "        return len(self.df)\n",
        "\n",
        "    def __getitem__(self, idx):\n",
        "        img_filename = os.path.basename(self.df.iloc[idx, 0])\n",
        "        img_path = os.path.join(self.root_dir, img_filename)\n",
        "\n",
        "        if not os.path.exists(img_path):\n",
        "            print(f\"Warning: File {img_path} not found!\")\n",
        "            return None, None\n",
        "\n",
        "        image = Image.open(img_path).convert(\"L\")\n",
        "\n",
        "        if self.transform:\n",
        "            image = self.transform(image)\n",
        "\n",
        "        if self.test:\n",
        "            return image\n",
        "        else:\n",
        "            label = int(self.df.iloc[idx, 1])\n",
        "            return image, torch.tensor(label, dtype=torch.long)\n"
      ],
      "metadata": {
        "id": "N6gSGBvnKdZX"
      },
      "execution_count": 5,
      "outputs": []
    },
    {
      "cell_type": "markdown",
      "source": [
        "**Create DataLoader**"
      ],
      "metadata": {
        "id": "0TjMmno3Klzq"
      }
    },
    {
      "cell_type": "code",
      "source": [
        "\n",
        "ROOT_DIR = \"/content/data/data\"\n",
        "\n",
        "train_dataset = SymbolDataset(df_train, root_dir=ROOT_DIR, transform=transform)\n",
        "test_dataset = SymbolDataset(df_test, root_dir=ROOT_DIR, transform=transform, test=True)\n",
        "\n",
        "\n",
        "train_loader = DataLoader(train_dataset, batch_size=32, shuffle=True)\n",
        "test_loader = DataLoader(test_dataset, batch_size=32, shuffle=False)\n",
        "\n",
        "\n",
        "print(f\"Training samples: {len(train_dataset)}\")\n",
        "print(f\"Test samples: {len(test_dataset)}\")\n"
      ],
      "metadata": {
        "colab": {
          "base_uri": "https://localhost:8080/",
          "height": 0
        },
        "id": "8cs6Y60JKoso",
        "outputId": "2669f87f-d8fb-4316-d7c2-f84e7db5b1e3"
      },
      "execution_count": 6,
      "outputs": [
        {
          "output_type": "stream",
          "name": "stdout",
          "text": [
            "Training samples: 134586\n",
            "Test samples: 33647\n"
          ]
        }
      ]
    },
    {
      "cell_type": "markdown",
      "source": [
        "**Define CNN Model**"
      ],
      "metadata": {
        "id": "Y6CA5LrOKxjX"
      }
    },
    {
      "cell_type": "code",
      "source": [
        "class SymbolClassifier(nn.Module):\n",
        "    def __init__(self, num_classes=369):\n",
        "        super(SymbolClassifier, self).__init__()\n",
        "        self.conv_layers = nn.Sequential(\n",
        "            nn.Conv2d(1, 32, kernel_size=3, padding=1),\n",
        "            nn.ReLU(),\n",
        "            nn.MaxPool2d(2),\n",
        "            nn.Conv2d(32, 64, kernel_size=3, padding=1),\n",
        "            nn.ReLU(),\n",
        "            nn.MaxPool2d(2)\n",
        "        )\n",
        "        self.fc_layers = nn.Sequential(\n",
        "            nn.Linear(4096, 512),\n",
        "            nn.ReLU(),\n",
        "            nn.Dropout(0.3),\n",
        "            nn.Linear(512, num_classes)\n",
        "        )\n",
        "\n",
        "    def forward(self, x):\n",
        "        x = self.conv_layers(x)\n",
        "        x = x.view(x.size(0), -1)\n",
        "        x = self.fc_layers(x)\n",
        "        return x\n"
      ],
      "metadata": {
        "id": "NYI92DsyKyWi"
      },
      "execution_count": 7,
      "outputs": []
    },
    {
      "cell_type": "markdown",
      "source": [
        "**Check Label Range in df_train**"
      ],
      "metadata": {
        "id": "Fa-SF4w8LMnH"
      }
    },
    {
      "cell_type": "code",
      "source": [
        "print(\"Min Label:\", df_train[\"label\"].min())\n",
        "print(\"Max Label:\", df_train[\"label\"].max())\n",
        "print(\"Unique Labels:\", df_train[\"label\"].nunique())\n"
      ],
      "metadata": {
        "colab": {
          "base_uri": "https://localhost:8080/",
          "height": 0
        },
        "id": "TcyPKwitLI00",
        "outputId": "befa5819-8b7b-4f2c-fc38-5dbbb12430e6"
      },
      "execution_count": 9,
      "outputs": [
        {
          "output_type": "stream",
          "name": "stdout",
          "text": [
            "Min Label: 31\n",
            "Max Label: 1400\n",
            "Unique Labels: 369\n"
          ]
        }
      ]
    },
    {
      "cell_type": "markdown",
      "source": [
        "**Remap Labels to Ensure Proper Range**"
      ],
      "metadata": {
        "id": "Xt19l9WHLVAe"
      }
    },
    {
      "cell_type": "code",
      "source": [
        "\n",
        "unique_labels = sorted(df_train[\"label\"].unique())\n",
        "label_mapping = {old_label: new_label for new_label, old_label in enumerate(unique_labels)}\n",
        "\n",
        "\n",
        "df_train[\"label\"] = df_train[\"label\"].map(label_mapping)\n"
      ],
      "metadata": {
        "id": "RTqEvZ9LLRZU"
      },
      "execution_count": 10,
      "outputs": []
    },
    {
      "cell_type": "markdown",
      "source": [
        "**Verify Labels After Fixing**"
      ],
      "metadata": {
        "id": "vexzzPXKLYqr"
      }
    },
    {
      "cell_type": "code",
      "source": [
        "print(\"Fixed Min Label:\", df_train[\"label\"].min())\n",
        "print(\"Fixed Max Label:\", df_train[\"label\"].max())\n",
        "print(\"Total Unique Labels:\", df_train[\"label\"].nunique())\n"
      ],
      "metadata": {
        "colab": {
          "base_uri": "https://localhost:8080/",
          "height": 0
        },
        "id": "8RZrZvwrLXAk",
        "outputId": "cf2b4d97-36ad-4c4b-aadd-2762f8a17485"
      },
      "execution_count": 11,
      "outputs": [
        {
          "output_type": "stream",
          "name": "stdout",
          "text": [
            "Fixed Min Label: 0\n",
            "Fixed Max Label: 368\n",
            "Total Unique Labels: 369\n"
          ]
        }
      ]
    },
    {
      "cell_type": "markdown",
      "source": [
        "**Ensure Labels Are Integers**"
      ],
      "metadata": {
        "id": "PcqgnfutLfWF"
      }
    },
    {
      "cell_type": "code",
      "source": [
        "df_train[\"label\"] = df_train[\"label\"].astype(int)\n",
        "df_train = df_train.dropna(subset=[\"label\"])\n"
      ],
      "metadata": {
        "id": "1f8_4JaOLcq0"
      },
      "execution_count": 12,
      "outputs": []
    },
    {
      "cell_type": "markdown",
      "source": [
        "**Train the Model on CPU**"
      ],
      "metadata": {
        "id": "9Up3aLxzLwDX"
      }
    },
    {
      "cell_type": "code",
      "source": [
        "device = torch.device(\"cpu\")\n",
        "\n",
        "def train_model(model, train_loader, criterion, optimizer, epochs=10):\n",
        "    model.to(device)\n",
        "    for epoch in range(epochs):\n",
        "        model.train()\n",
        "        running_loss = 0.0\n",
        "        correct, total = 0, 0\n",
        "\n",
        "        for images, labels in train_loader:\n",
        "            images, labels = images.to(device), labels.to(device)\n",
        "            optimizer.zero_grad()\n",
        "            outputs = model(images)\n",
        "            loss = criterion(outputs, labels)\n",
        "            loss.backward()\n",
        "            optimizer.step()\n",
        "\n",
        "            running_loss += loss.item()\n",
        "            _, predicted = torch.max(outputs, 1)\n",
        "            correct += (predicted == labels).sum().item()\n",
        "            total += labels.size(0)\n",
        "\n",
        "        train_loss = running_loss / len(train_loader)\n",
        "        train_acc = correct / total * 100\n",
        "        print(f\"Epoch {epoch+1}/{epochs} | Loss: {train_loss:.4f} | Accuracy: {train_acc:.2f}%\")\n",
        "\n",
        "\n",
        "model = SymbolClassifier().to(device)\n",
        "criterion = nn.CrossEntropyLoss()\n",
        "optimizer = optim.Adam(model.parameters(), lr=0.001)\n",
        "\n",
        "train_model(model, train_loader, criterion, optimizer, epochs=10)\n"
      ],
      "metadata": {
        "colab": {
          "base_uri": "https://localhost:8080/",
          "height": 0
        },
        "id": "xKhiLVtQLmjv",
        "outputId": "0e3f0d8e-0b98-4bcb-c050-1a02e773ee9c"
      },
      "execution_count": 13,
      "outputs": [
        {
          "output_type": "stream",
          "name": "stdout",
          "text": [
            "Epoch 1/10 | Loss: 1.3070 | Accuracy: 67.68%\n",
            "Epoch 2/10 | Loss: 0.7427 | Accuracy: 78.25%\n",
            "Epoch 3/10 | Loss: 0.6154 | Accuracy: 80.79%\n",
            "Epoch 4/10 | Loss: 0.5227 | Accuracy: 83.04%\n",
            "Epoch 5/10 | Loss: 0.4547 | Accuracy: 84.62%\n",
            "Epoch 6/10 | Loss: 0.3970 | Accuracy: 86.19%\n",
            "Epoch 7/10 | Loss: 0.3479 | Accuracy: 87.58%\n",
            "Epoch 8/10 | Loss: 0.3064 | Accuracy: 88.83%\n",
            "Epoch 9/10 | Loss: 0.2725 | Accuracy: 89.95%\n",
            "Epoch 10/10 | Loss: 0.2433 | Accuracy: 91.06%\n"
          ]
        }
      ]
    },
    {
      "cell_type": "markdown",
      "source": [
        "**Evaluate Model Accuracy**"
      ],
      "metadata": {
        "id": "vtrXhOjWV3lf"
      }
    },
    {
      "cell_type": "code",
      "source": [
        "def evaluate_model(model, data_loader):\n",
        "    model.eval()\n",
        "    correct, total = 0, 0\n",
        "\n",
        "    with torch.no_grad():\n",
        "        for images, labels in data_loader:\n",
        "            images, labels = images.to(device), labels.to(device)\n",
        "            outputs = model(images)\n",
        "            _, predicted = torch.max(outputs, 1)\n",
        "\n",
        "            correct += (predicted == labels).sum().item()\n",
        "            total += labels.size(0)\n",
        "\n",
        "    acc = 100 * correct / total\n",
        "    print(f\"Accuracy: {acc:.2f}%\")\n",
        "    return acc\n",
        "\n",
        "evaluate_model(model, train_loader)\n"
      ],
      "metadata": {
        "colab": {
          "base_uri": "https://localhost:8080/",
          "height": 0
        },
        "id": "3Ll87o7LV7PC",
        "outputId": "d2628f07-5fe5-4cf3-9719-ec19b6594ee2"
      },
      "execution_count": 14,
      "outputs": [
        {
          "output_type": "stream",
          "name": "stdout",
          "text": [
            "Accuracy: 95.93%\n"
          ]
        },
        {
          "output_type": "execute_result",
          "data": {
            "text/plain": [
              "95.93419820783737"
            ]
          },
          "metadata": {},
          "execution_count": 14
        }
      ]
    },
    {
      "cell_type": "markdown",
      "source": [
        "**Final Training**"
      ],
      "metadata": {
        "id": "bFNYzAHQWLkv"
      }
    },
    {
      "cell_type": "code",
      "source": [
        "train_acc = evaluate_model(model, train_loader)\n",
        "print(f\"Training Accuracy: {train_acc:.2f}%\")\n"
      ],
      "metadata": {
        "colab": {
          "base_uri": "https://localhost:8080/",
          "height": 0
        },
        "id": "P6GBQswAXOAH",
        "outputId": "25374a2b-aa10-48f4-9774-2521748714fb"
      },
      "execution_count": 16,
      "outputs": [
        {
          "output_type": "stream",
          "name": "stdout",
          "text": [
            "Accuracy: 95.93%\n",
            "Training Accuracy: 95.93%\n"
          ]
        }
      ]
    },
    {
      "cell_type": "markdown",
      "source": [
        "**Model Testing on Sample Image**"
      ],
      "metadata": {
        "id": "w1oAv03pXSKG"
      }
    },
    {
      "cell_type": "code",
      "source": [
        "sample_img, _ = train_dataset[0]\n",
        "sample_img = sample_img.unsqueeze(0).to(device)\n",
        "model.eval()\n",
        "with torch.no_grad():\n",
        "    pred = model(sample_img)\n",
        "    predicted_label = pred.argmax(dim=1).item()\n",
        "print(f\"Predicted Label: {predicted_label}\")\n"
      ],
      "metadata": {
        "colab": {
          "base_uri": "https://localhost:8080/",
          "height": 0
        },
        "id": "_FHkmytxXTcF",
        "outputId": "3363be0a-a491-4827-9c53-712e1c78a8e9"
      },
      "execution_count": 17,
      "outputs": [
        {
          "output_type": "stream",
          "name": "stdout",
          "text": [
            "Predicted Label: 236\n"
          ]
        }
      ]
    },
    {
      "cell_type": "markdown",
      "source": [
        "**Saving the Model**"
      ],
      "metadata": {
        "id": "O4pzZG6MXzN8"
      }
    },
    {
      "cell_type": "code",
      "source": [
        "torch.save(model.state_dict(), \"symbol_classifier.pth\")\n",
        "print(\"Model saved successfully!\")\n"
      ],
      "metadata": {
        "colab": {
          "base_uri": "https://localhost:8080/",
          "height": 0
        },
        "id": "Ogra42OJXxuv",
        "outputId": "4a1e5c4f-0e63-4219-838e-ef3b76cde1b8"
      },
      "execution_count": 18,
      "outputs": [
        {
          "output_type": "stream",
          "name": "stdout",
          "text": [
            "Model saved successfully!\n"
          ]
        }
      ]
    },
    {
      "cell_type": "markdown",
      "source": [
        "**Print the Image for a Predicted Label**"
      ],
      "metadata": {
        "id": "K8GYUYOQX0fL"
      }
    },
    {
      "cell_type": "code",
      "source": [
        "import matplotlib.pyplot as plt\n",
        "import numpy as np\n",
        "\n",
        "\n",
        "sample_img, sample_label = train_dataset[0]\n",
        "sample_img = sample_img.unsqueeze(0).to(device)\n",
        "\n",
        "model.eval()\n",
        "with torch.no_grad():\n",
        "    pred = model(sample_img)\n",
        "    predicted_label = pred.argmax(dim=1).item()\n",
        "\n",
        "print(f\"Predicted Label: {predicted_label}\")\n",
        "\n",
        "for img, label in train_dataset:\n",
        "    if label == predicted_label:\n",
        "        image_to_show = img.squeeze().cpu().numpy()\n",
        "        break\n",
        "\n",
        "\n",
        "plt.imshow(image_to_show, cmap=\"gray\")\n",
        "plt.title(f\"Predicted Label: {predicted_label}\")\n",
        "plt.axis(\"off\")\n",
        "plt.show()\n"
      ],
      "metadata": {
        "colab": {
          "base_uri": "https://localhost:8080/",
          "height": 445
        },
        "id": "-tMlm3lbX7TS",
        "outputId": "85cee0da-ad35-4ae4-b64e-07616158c29c"
      },
      "execution_count": 19,
      "outputs": [
        {
          "output_type": "stream",
          "name": "stdout",
          "text": [
            "Predicted Label: 236\n"
          ]
        },
        {
          "output_type": "display_data",
          "data": {
            "text/plain": [
              "<Figure size 640x480 with 1 Axes>"
            ],
            "image/png": "[encoded data removed]"
          },
          "metadata": {}
        }
      ]
    },
    {
      "cell_type": "markdown",
      "source": [
        "**Display an Image of a Specific Label-100**"
      ],
      "metadata": {
        "id": "eP7KyTb4YGlE"
      }
    },
    {
      "cell_type": "code",
      "source": [
        "import matplotlib.pyplot as plt\n",
        "import numpy as np\n",
        "\n",
        "\n",
        "target_label = 100\n",
        "\n",
        "image_to_show = None\n",
        "for img, label in train_dataset:\n",
        "    if label == target_label:\n",
        "        image_to_show = img.squeeze().cpu().numpy()\n",
        "        break\n",
        "\n",
        "\n",
        "if image_to_show is not None:\n",
        "    plt.imshow(image_to_show, cmap=\"gray\")\n",
        "    plt.title(f\"Symbol with Label: {target_label}\")\n",
        "    plt.axis(\"off\")\n",
        "    plt.show()\n",
        "else:\n",
        "    print(f\"No image found for label {target_label}.\")\n"
      ],
      "metadata": {
        "colab": {
          "base_uri": "https://localhost:8080/",
          "height": 428
        },
        "id": "r0mDZwh8YHkC",
        "outputId": "0f3b17e8-e758-4735-803a-55dbbf1ce19b"
      },
      "execution_count": 20,
      "outputs": [
        {
          "output_type": "display_data",
          "data": {
            "text/plain": [
              "<Figure size 640x480 with 1 Axes>"
            ],
            "image/png": "[encoded data removed]"
          },
          "metadata": {}
        }
      ]
    },
    {
      "cell_type": "markdown",
      "source": [
        "**Display an Image of a Specific Label-1**"
      ],
      "metadata": {
        "id": "H1xU8nSDYZQ0"
      }
    },
    {
      "cell_type": "code",
      "source": [
        "import matplotlib.pyplot as plt\n",
        "import numpy as np\n",
        "\n",
        "\n",
        "target_label = 1\n",
        "\n",
        "image_to_show = None\n",
        "for img, label in train_dataset:\n",
        "    if label == target_label:\n",
        "        image_to_show = img.squeeze().cpu().numpy()\n",
        "        break\n",
        "\n",
        "\n",
        "if image_to_show is not None:\n",
        "    plt.imshow(image_to_show, cmap=\"gray\")\n",
        "    plt.title(f\"Symbol with Label: {target_label}\")\n",
        "    plt.axis(\"off\")\n",
        "    plt.show()\n",
        "else:\n",
        "    print(f\"No image found for label {target_label}.\")\n"
      ],
      "metadata": {
        "colab": {
          "base_uri": "https://localhost:8080/",
          "height": 428
        },
        "id": "yUvWo7WYYO9b",
        "outputId": "a41deb07-6b10-4254-ddbf-39eb721f902e"
      },
      "execution_count": 21,
      "outputs": [
        {
          "output_type": "display_data",
          "data": {
            "text/plain": [
              "<Figure size 640x480 with 1 Axes>"
            ],
            "image/png": "[encoded data removed]"
          },
          "metadata": {}
        }
      ]
    },
    {
      "cell_type": "markdown",
      "source": [
        "**Generate Submission File**"
      ],
      "metadata": {
        "id": "qmFAyyXwZLW7"
      }
    },
    {
      "cell_type": "code",
      "source": [
        "import os\n",
        "\n",
        "\n",
        "TEST_DIR = \"/content/data/data\"\n",
        "\n",
        "\n",
        "test_filenames = sorted(os.listdir(TEST_DIR))\n",
        "\n",
        "print(\"Total test images:\", len(test_filenames))\n"
      ],
      "metadata": {
        "colab": {
          "base_uri": "https://localhost:8080/",
          "height": 0
        },
        "id": "BzTpWdZ9YtPQ",
        "outputId": "74bd058f-a76c-40fa-ea42-fed4a552aa72"
      },
      "execution_count": 23,
      "outputs": [
        {
          "output_type": "stream",
          "name": "stdout",
          "text": [
            "Total test images: 168233\n"
          ]
        }
      ]
    },
    {
      "cell_type": "markdown",
      "source": [
        "**Generate Predictions for Test Data**"
      ],
      "metadata": {
        "id": "5XRRexV5ZPxM"
      }
    },
    {
      "cell_type": "code",
      "source": [
        "import torch\n",
        "from torchvision import transforms\n",
        "from PIL import Image\n",
        "\n",
        "\n",
        "transform = transforms.Compose([\n",
        "    transforms.Grayscale(num_output_channels=1),\n",
        "    transforms.ToTensor()\n",
        "])\n",
        "\n",
        "\n",
        "def predict_image(image_path, model):\n",
        "    image = Image.open(image_path)\n",
        "    image = transform(image).unsqueeze(0)\n",
        "    model.eval()\n",
        "\n",
        "    with torch.no_grad():\n",
        "        output = model(image)\n",
        "        predicted_label = torch.argmax(output, dim=1).item()\n",
        "\n",
        "    return predicted_label\n",
        "\n",
        "predictions = [predict_image(os.path.join(TEST_DIR, fname), model) for fname in test_filenames]\n",
        "\n",
        "print(\"Predictions completed!\")\n"
      ],
      "metadata": {
        "colab": {
          "base_uri": "https://localhost:8080/",
          "height": 0
        },
        "id": "6rNzJgbvZAh2",
        "outputId": "8bc2a0ba-2dab-4845-f8a7-ff8a2bf25dca"
      },
      "execution_count": 24,
      "outputs": [
        {
          "output_type": "stream",
          "name": "stdout",
          "text": [
            "Predictions completed!\n"
          ]
        }
      ]
    },
    {
      "cell_type": "markdown",
      "source": [
        "**Create & Save submission.csv**"
      ],
      "metadata": {
        "id": "N_FgoJBCZWb1"
      }
    },
    {
      "cell_type": "code",
      "source": [
        "import pandas as pd\n",
        "\n",
        "submission_df = pd.DataFrame({\n",
        "    \"image_id\": test_filenames,\n",
        "    \"label\": predictions\n",
        "})\n",
        "\n",
        "submission_df.to_csv(\"submission.csv\", index=False)\n",
        "print(\"submission.csv generated successfully!\")\n"
      ],
      "metadata": {
        "colab": {
          "base_uri": "https://localhost:8080/",
          "height": 0
        },
        "id": "GH939KCjZXkZ",
        "outputId": "75aba807-da95-4725-ef5b-38c5eacd9ea1"
      },
      "execution_count": 25,
      "outputs": [
        {
          "output_type": "stream",
          "name": "stdout",
          "text": [
            "submission.csv generated successfully!\n"
          ]
        }
      ]
    },
    {
      "cell_type": "markdown",
      "source": [
        "**Verify submission.csv Format**"
      ],
      "metadata": {
        "id": "KndKs1DzabJO"
      }
    },
    {
      "cell_type": "code",
      "source": [
        "import pandas as pd\n",
        "\n",
        "submission = pd.read_csv(\"submission.csv\")\n",
        "print(submission.head())\n",
        "\n",
        "\n",
        "\n",
        "\n",
        "\n",
        "\n",
        "\n"
      ],
      "metadata": {
        "colab": {
          "base_uri": "https://localhost:8080/",
          "height": 0
        },
        "id": "K8hzDq2DaXh3",
        "outputId": "ba294dea-5d09-457d-d045-40d03f88dfa3"
      },
      "execution_count": 26,
      "outputs": [
        {
          "output_type": "stream",
          "name": "stdout",
          "text": [
            "       image_id  label\n",
            "0  v2-00000.png    193\n",
            "1  v2-00001.png    193\n",
            "2  v2-00002.png    266\n",
            "3  v2-00003.png    193\n",
            "4  v2-00004.png    193\n"
          ]
        }
      ]
    },
    {
      "cell_type": "markdown",
      "source": [
        "**Submission.csv file is verified**"
      ],
      "metadata": {
        "id": "YiL5b56gceAu"
      }
    }
  ]
}